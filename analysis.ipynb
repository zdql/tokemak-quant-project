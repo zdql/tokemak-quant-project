{
 "cells": [
  {
   "cell_type": "code",
   "execution_count": 1,
   "metadata": {},
   "outputs": [],
   "source": [
    "import os\n",
    "\n",
    "from dotenv import load_dotenv\n",
    "from web3 import Web3\n",
    "import pandas as pd\n",
    "import numpy as np\n",
    "import plotly.express as go\n",
    "import asyncio\n",
    "from tqdm import tqdm\n"
   ]
  },
  {
   "cell_type": "code",
   "execution_count": 2,
   "metadata": {},
   "outputs": [
    {
     "name": "stdout",
     "output_type": "stream",
     "text": [
      "15896782\n"
     ]
    }
   ],
   "source": [
    "load_dotenv()\n",
    "w3 = Web3(Web3.HTTPProvider(os.getenv('PROVIDER_URL')))\n",
    "print(w3.eth.block_number)\n",
    "\n",
    "\n"
   ]
  },
  {
   "cell_type": "code",
   "execution_count": 3,
   "metadata": {},
   "outputs": [],
   "source": [
    "pools = pd.read_csv('data/uni_v2_sushi_pools.csv')\n",
    "\n",
    "top_tokens = pd.read_csv('data/top_erc20_tokens.csv')\n",
    "\n",
    "top_100_tokens_set = list(top_tokens['id'])"
   ]
  },
  {
   "cell_type": "code",
   "execution_count": 4,
   "metadata": {},
   "outputs": [],
   "source": [
    "WETH = '0xc02aaa39b223fe8d0a0e5c4f27ead9083c756cc2'\n",
    "\n",
    "LINKFEED = '0x5f4eC3Df9cbd43714FE2740f5E3616155c5b8419'\n",
    "\n",
    "\n",
    "wethPools = pools.loc[pools.token0_symbol == 'WETH'].append(pools.loc[pools.token1_symbol == 'WETH'])\n",
    "\n",
    "wethPools = wethPools.loc[wethPools.token0_symbol.isin(top_100_tokens_set)].append(wethPools.loc[wethPools.token1_symbol.isin(top_100_tokens_set)])"
   ]
  },
  {
   "cell_type": "code",
   "execution_count": 5,
   "metadata": {},
   "outputs": [],
   "source": [
    "def transmute_pools(pools):\n",
    "  ret = []\n",
    "  for pool in pools:\n",
    "      obj = [pool[0], pool[1], pool[2], pool[3], pool[4]]\n",
    "      ret.append(obj)\n",
    "  return ret\n",
    "\n",
    "poolsArray = transmute_pools(np.array(wethPools))"
   ]
  },
  {
   "cell_type": "markdown",
   "metadata": {},
   "source": [
    "What metrics are most important to optimize for the best risk-adjusted return?\n",
    "\n",
    "\n",
    "To LP in a uniswap v2 style pool:\n",
    "\n",
    "You care about APY, the beta of APY, you care about TVL in pool (ideally you are at a sweet spot of TVL)\n",
    "\n",
    "You probably care a bit about the beta of underlying coins as you would hold those coins in your portf and want to reduce loss. You'd also probably want them to be relatively stable. If your goal is to maximize returns ON TOP of what you're LPing, this is a diff problem then \"wheres the best spot to park capital\" as that would require LPing in a pool that is increasing in value implicitly probably. \n",
    "\n",
    "\n",
    "So you want to maximize APY / maximize pool volume, and minimize underlying coin beta  ( stablecoins? ), minimize pool volume beta, minimize APY beta"
   ]
  },
  {
   "cell_type": "code",
   "execution_count": 6,
   "metadata": {},
   "outputs": [],
   "source": [
    "abi = '[{\"inputs\":[],\"payable\":false,\"stateMutability\":\"nonpayable\",\"type\":\"constructor\"},{\"anonymous\":false,\"inputs\":[{\"indexed\":true,\"internalType\":\"address\",\"name\":\"owner\",\"type\":\"address\"},{\"indexed\":true,\"internalType\":\"address\",\"name\":\"spender\",\"type\":\"address\"},{\"indexed\":false,\"internalType\":\"uint256\",\"name\":\"value\",\"type\":\"uint256\"}],\"name\":\"Approval\",\"type\":\"event\"},{\"anonymous\":false,\"inputs\":[{\"indexed\":true,\"internalType\":\"address\",\"name\":\"sender\",\"type\":\"address\"},{\"indexed\":false,\"internalType\":\"uint256\",\"name\":\"amount0\",\"type\":\"uint256\"},{\"indexed\":false,\"internalType\":\"uint256\",\"name\":\"amount1\",\"type\":\"uint256\"},{\"indexed\":true,\"internalType\":\"address\",\"name\":\"to\",\"type\":\"address\"}],\"name\":\"Burn\",\"type\":\"event\"},{\"anonymous\":false,\"inputs\":[{\"indexed\":true,\"internalType\":\"address\",\"name\":\"sender\",\"type\":\"address\"},{\"indexed\":false,\"internalType\":\"uint256\",\"name\":\"amount0\",\"type\":\"uint256\"},{\"indexed\":false,\"internalType\":\"uint256\",\"name\":\"amount1\",\"type\":\"uint256\"}],\"name\":\"Mint\",\"type\":\"event\"},{\"anonymous\":false,\"inputs\":[{\"indexed\":true,\"internalType\":\"address\",\"name\":\"sender\",\"type\":\"address\"},{\"indexed\":false,\"internalType\":\"uint256\",\"name\":\"amount0In\",\"type\":\"uint256\"},{\"indexed\":false,\"internalType\":\"uint256\",\"name\":\"amount1In\",\"type\":\"uint256\"},{\"indexed\":false,\"internalType\":\"uint256\",\"name\":\"amount0Out\",\"type\":\"uint256\"},{\"indexed\":false,\"internalType\":\"uint256\",\"name\":\"amount1Out\",\"type\":\"uint256\"},{\"indexed\":true,\"internalType\":\"address\",\"name\":\"to\",\"type\":\"address\"}],\"name\":\"Swap\",\"type\":\"event\"},{\"anonymous\":false,\"inputs\":[{\"indexed\":false,\"internalType\":\"uint112\",\"name\":\"reserve0\",\"type\":\"uint112\"},{\"indexed\":false,\"internalType\":\"uint112\",\"name\":\"reserve1\",\"type\":\"uint112\"}],\"name\":\"Sync\",\"type\":\"event\"},{\"anonymous\":false,\"inputs\":[{\"indexed\":true,\"internalType\":\"address\",\"name\":\"from\",\"type\":\"address\"},{\"indexed\":true,\"internalType\":\"address\",\"name\":\"to\",\"type\":\"address\"},{\"indexed\":false,\"internalType\":\"uint256\",\"name\":\"value\",\"type\":\"uint256\"}],\"name\":\"Transfer\",\"type\":\"event\"},{\"constant\":true,\"inputs\":[],\"name\":\"DOMAIN_SEPARATOR\",\"outputs\":[{\"internalType\":\"bytes32\",\"name\":\"\",\"type\":\"bytes32\"}],\"payable\":false,\"stateMutability\":\"view\",\"type\":\"function\"},{\"constant\":true,\"inputs\":[],\"name\":\"MINIMUM_LIQUIDITY\",\"outputs\":[{\"internalType\":\"uint256\",\"name\":\"\",\"type\":\"uint256\"}],\"payable\":false,\"stateMutability\":\"view\",\"type\":\"function\"},{\"constant\":true,\"inputs\":[],\"name\":\"PERMIT_TYPEHASH\",\"outputs\":[{\"internalType\":\"bytes32\",\"name\":\"\",\"type\":\"bytes32\"}],\"payable\":false,\"stateMutability\":\"view\",\"type\":\"function\"},{\"constant\":true,\"inputs\":[{\"internalType\":\"address\",\"name\":\"\",\"type\":\"address\"},{\"internalType\":\"address\",\"name\":\"\",\"type\":\"address\"}],\"name\":\"allowance\",\"outputs\":[{\"internalType\":\"uint256\",\"name\":\"\",\"type\":\"uint256\"}],\"payable\":false,\"stateMutability\":\"view\",\"type\":\"function\"},{\"constant\":false,\"inputs\":[{\"internalType\":\"address\",\"name\":\"spender\",\"type\":\"address\"},{\"internalType\":\"uint256\",\"name\":\"value\",\"type\":\"uint256\"}],\"name\":\"approve\",\"outputs\":[{\"internalType\":\"bool\",\"name\":\"\",\"type\":\"bool\"}],\"payable\":false,\"stateMutability\":\"nonpayable\",\"type\":\"function\"},{\"constant\":true,\"inputs\":[{\"internalType\":\"address\",\"name\":\"\",\"type\":\"address\"}],\"name\":\"balanceOf\",\"outputs\":[{\"internalType\":\"uint256\",\"name\":\"\",\"type\":\"uint256\"}],\"payable\":false,\"stateMutability\":\"view\",\"type\":\"function\"},{\"constant\":false,\"inputs\":[{\"internalType\":\"address\",\"name\":\"to\",\"type\":\"address\"}],\"name\":\"burn\",\"outputs\":[{\"internalType\":\"uint256\",\"name\":\"amount0\",\"type\":\"uint256\"},{\"internalType\":\"uint256\",\"name\":\"amount1\",\"type\":\"uint256\"}],\"payable\":false,\"stateMutability\":\"nonpayable\",\"type\":\"function\"},{\"constant\":true,\"inputs\":[],\"name\":\"decimals\",\"outputs\":[{\"internalType\":\"uint8\",\"name\":\"\",\"type\":\"uint8\"}],\"payable\":false,\"stateMutability\":\"view\",\"type\":\"function\"},{\"constant\":true,\"inputs\":[],\"name\":\"factory\",\"outputs\":[{\"internalType\":\"address\",\"name\":\"\",\"type\":\"address\"}],\"payable\":false,\"stateMutability\":\"view\",\"type\":\"function\"},{\"constant\":true,\"inputs\":[],\"name\":\"getReserves\",\"outputs\":[{\"internalType\":\"uint112\",\"name\":\"_reserve0\",\"type\":\"uint112\"},{\"internalType\":\"uint112\",\"name\":\"_reserve1\",\"type\":\"uint112\"},{\"internalType\":\"uint32\",\"name\":\"_blockTimestampLast\",\"type\":\"uint32\"}],\"payable\":false,\"stateMutability\":\"view\",\"type\":\"function\"},{\"constant\":false,\"inputs\":[{\"internalType\":\"address\",\"name\":\"_token0\",\"type\":\"address\"},{\"internalType\":\"address\",\"name\":\"_token1\",\"type\":\"address\"}],\"name\":\"initialize\",\"outputs\":[],\"payable\":false,\"stateMutability\":\"nonpayable\",\"type\":\"function\"},{\"constant\":true,\"inputs\":[],\"name\":\"kLast\",\"outputs\":[{\"internalType\":\"uint256\",\"name\":\"\",\"type\":\"uint256\"}],\"payable\":false,\"stateMutability\":\"view\",\"type\":\"function\"},{\"constant\":false,\"inputs\":[{\"internalType\":\"address\",\"name\":\"to\",\"type\":\"address\"}],\"name\":\"mint\",\"outputs\":[{\"internalType\":\"uint256\",\"name\":\"liquidity\",\"type\":\"uint256\"}],\"payable\":false,\"stateMutability\":\"nonpayable\",\"type\":\"function\"},{\"constant\":true,\"inputs\":[],\"name\":\"name\",\"outputs\":[{\"internalType\":\"string\",\"name\":\"\",\"type\":\"string\"}],\"payable\":false,\"stateMutability\":\"view\",\"type\":\"function\"},{\"constant\":true,\"inputs\":[{\"internalType\":\"address\",\"name\":\"\",\"type\":\"address\"}],\"name\":\"nonces\",\"outputs\":[{\"internalType\":\"uint256\",\"name\":\"\",\"type\":\"uint256\"}],\"payable\":false,\"stateMutability\":\"view\",\"type\":\"function\"},{\"constant\":false,\"inputs\":[{\"internalType\":\"address\",\"name\":\"owner\",\"type\":\"address\"},{\"internalType\":\"address\",\"name\":\"spender\",\"type\":\"address\"},{\"internalType\":\"uint256\",\"name\":\"value\",\"type\":\"uint256\"},{\"internalType\":\"uint256\",\"name\":\"deadline\",\"type\":\"uint256\"},{\"internalType\":\"uint8\",\"name\":\"v\",\"type\":\"uint8\"},{\"internalType\":\"bytes32\",\"name\":\"r\",\"type\":\"bytes32\"},{\"internalType\":\"bytes32\",\"name\":\"s\",\"type\":\"bytes32\"}],\"name\":\"permit\",\"outputs\":[],\"payable\":false,\"stateMutability\":\"nonpayable\",\"type\":\"function\"},{\"constant\":true,\"inputs\":[],\"name\":\"price0CumulativeLast\",\"outputs\":[{\"internalType\":\"uint256\",\"name\":\"\",\"type\":\"uint256\"}],\"payable\":false,\"stateMutability\":\"view\",\"type\":\"function\"},{\"constant\":true,\"inputs\":[],\"name\":\"price1CumulativeLast\",\"outputs\":[{\"internalType\":\"uint256\",\"name\":\"\",\"type\":\"uint256\"}],\"payable\":false,\"stateMutability\":\"view\",\"type\":\"function\"},{\"constant\":false,\"inputs\":[{\"internalType\":\"address\",\"name\":\"to\",\"type\":\"address\"}],\"name\":\"skim\",\"outputs\":[],\"payable\":false,\"stateMutability\":\"nonpayable\",\"type\":\"function\"},{\"constant\":false,\"inputs\":[{\"internalType\":\"uint256\",\"name\":\"amount0Out\",\"type\":\"uint256\"},{\"internalType\":\"uint256\",\"name\":\"amount1Out\",\"type\":\"uint256\"},{\"internalType\":\"address\",\"name\":\"to\",\"type\":\"address\"},{\"internalType\":\"bytes\",\"name\":\"data\",\"type\":\"bytes\"}],\"name\":\"swap\",\"outputs\":[],\"payable\":false,\"stateMutability\":\"nonpayable\",\"type\":\"function\"},{\"constant\":true,\"inputs\":[],\"name\":\"symbol\",\"outputs\":[{\"internalType\":\"string\",\"name\":\"\",\"type\":\"string\"}],\"payable\":false,\"stateMutability\":\"view\",\"type\":\"function\"},{\"constant\":false,\"inputs\":[],\"name\":\"sync\",\"outputs\":[],\"payable\":false,\"stateMutability\":\"nonpayable\",\"type\":\"function\"},{\"constant\":true,\"inputs\":[],\"name\":\"token0\",\"outputs\":[{\"internalType\":\"address\",\"name\":\"\",\"type\":\"address\"}],\"payable\":false,\"stateMutability\":\"view\",\"type\":\"function\"},{\"constant\":true,\"inputs\":[],\"name\":\"token1\",\"outputs\":[{\"internalType\":\"address\",\"name\":\"\",\"type\":\"address\"}],\"payable\":false,\"stateMutability\":\"view\",\"type\":\"function\"},{\"constant\":true,\"inputs\":[],\"name\":\"totalSupply\",\"outputs\":[{\"internalType\":\"uint256\",\"name\":\"\",\"type\":\"uint256\"}],\"payable\":false,\"stateMutability\":\"view\",\"type\":\"function\"},{\"constant\":false,\"inputs\":[{\"internalType\":\"address\",\"name\":\"to\",\"type\":\"address\"},{\"internalType\":\"uint256\",\"name\":\"value\",\"type\":\"uint256\"}],\"name\":\"transfer\",\"outputs\":[{\"internalType\":\"bool\",\"name\":\"\",\"type\":\"bool\"}],\"payable\":false,\"stateMutability\":\"nonpayable\",\"type\":\"function\"},{\"constant\":false,\"inputs\":[{\"internalType\":\"address\",\"name\":\"from\",\"type\":\"address\"},{\"internalType\":\"address\",\"name\":\"to\",\"type\":\"address\"},{\"internalType\":\"uint256\",\"name\":\"value\",\"type\":\"uint256\"}],\"name\":\"transferFrom\",\"outputs\":[{\"internalType\":\"bool\",\"name\":\"\",\"type\":\"bool\"}],\"payable\":false,\"stateMutability\":\"nonpayable\",\"type\":\"function\"}]'\n",
    "\n",
    "linkabi='[{\"inputs\":[{\"internalType\":\"address\",\"name\":\"_aggregator\",\"type\":\"address\"},{\"internalType\":\"address\",\"name\":\"_accessController\",\"type\":\"address\"}],\"stateMutability\":\"nonpayable\",\"type\":\"constructor\"},{\"anonymous\":false,\"inputs\":[{\"indexed\":true,\"internalType\":\"int256\",\"name\":\"current\",\"type\":\"int256\"},{\"indexed\":true,\"internalType\":\"uint256\",\"name\":\"roundId\",\"type\":\"uint256\"},{\"indexed\":false,\"internalType\":\"uint256\",\"name\":\"updatedAt\",\"type\":\"uint256\"}],\"name\":\"AnswerUpdated\",\"type\":\"event\"},{\"anonymous\":false,\"inputs\":[{\"indexed\":true,\"internalType\":\"uint256\",\"name\":\"roundId\",\"type\":\"uint256\"},{\"indexed\":true,\"internalType\":\"address\",\"name\":\"startedBy\",\"type\":\"address\"},{\"indexed\":false,\"internalType\":\"uint256\",\"name\":\"startedAt\",\"type\":\"uint256\"}],\"name\":\"NewRound\",\"type\":\"event\"},{\"anonymous\":false,\"inputs\":[{\"indexed\":true,\"internalType\":\"address\",\"name\":\"from\",\"type\":\"address\"},{\"indexed\":true,\"internalType\":\"address\",\"name\":\"to\",\"type\":\"address\"}],\"name\":\"OwnershipTransferRequested\",\"type\":\"event\"},{\"anonymous\":false,\"inputs\":[{\"indexed\":true,\"internalType\":\"address\",\"name\":\"from\",\"type\":\"address\"},{\"indexed\":true,\"internalType\":\"address\",\"name\":\"to\",\"type\":\"address\"}],\"name\":\"OwnershipTransferred\",\"type\":\"event\"},{\"inputs\":[],\"name\":\"acceptOwnership\",\"outputs\":[],\"stateMutability\":\"nonpayable\",\"type\":\"function\"},{\"inputs\":[],\"name\":\"accessController\",\"outputs\":[{\"internalType\":\"contract AccessControllerInterface\",\"name\":\"\",\"type\":\"address\"}],\"stateMutability\":\"view\",\"type\":\"function\"},{\"inputs\":[],\"name\":\"aggregator\",\"outputs\":[{\"internalType\":\"address\",\"name\":\"\",\"type\":\"address\"}],\"stateMutability\":\"view\",\"type\":\"function\"},{\"inputs\":[{\"internalType\":\"address\",\"name\":\"_aggregator\",\"type\":\"address\"}],\"name\":\"confirmAggregator\",\"outputs\":[],\"stateMutability\":\"nonpayable\",\"type\":\"function\"},{\"inputs\":[],\"name\":\"decimals\",\"outputs\":[{\"internalType\":\"uint8\",\"name\":\"\",\"type\":\"uint8\"}],\"stateMutability\":\"view\",\"type\":\"function\"},{\"inputs\":[],\"name\":\"description\",\"outputs\":[{\"internalType\":\"string\",\"name\":\"\",\"type\":\"string\"}],\"stateMutability\":\"view\",\"type\":\"function\"},{\"inputs\":[{\"internalType\":\"uint256\",\"name\":\"_roundId\",\"type\":\"uint256\"}],\"name\":\"getAnswer\",\"outputs\":[{\"internalType\":\"int256\",\"name\":\"\",\"type\":\"int256\"}],\"stateMutability\":\"view\",\"type\":\"function\"},{\"inputs\":[{\"internalType\":\"uint80\",\"name\":\"_roundId\",\"type\":\"uint80\"}],\"name\":\"getRoundData\",\"outputs\":[{\"internalType\":\"uint80\",\"name\":\"roundId\",\"type\":\"uint80\"},{\"internalType\":\"int256\",\"name\":\"answer\",\"type\":\"int256\"},{\"internalType\":\"uint256\",\"name\":\"startedAt\",\"type\":\"uint256\"},{\"internalType\":\"uint256\",\"name\":\"updatedAt\",\"type\":\"uint256\"},{\"internalType\":\"uint80\",\"name\":\"answeredInRound\",\"type\":\"uint80\"}],\"stateMutability\":\"view\",\"type\":\"function\"},{\"inputs\":[{\"internalType\":\"uint256\",\"name\":\"_roundId\",\"type\":\"uint256\"}],\"name\":\"getTimestamp\",\"outputs\":[{\"internalType\":\"uint256\",\"name\":\"\",\"type\":\"uint256\"}],\"stateMutability\":\"view\",\"type\":\"function\"},{\"inputs\":[],\"name\":\"latestAnswer\",\"outputs\":[{\"internalType\":\"int256\",\"name\":\"\",\"type\":\"int256\"}],\"stateMutability\":\"view\",\"type\":\"function\"},{\"inputs\":[],\"name\":\"latestRound\",\"outputs\":[{\"internalType\":\"uint256\",\"name\":\"\",\"type\":\"uint256\"}],\"stateMutability\":\"view\",\"type\":\"function\"},{\"inputs\":[],\"name\":\"latestRoundData\",\"outputs\":[{\"internalType\":\"uint80\",\"name\":\"roundId\",\"type\":\"uint80\"},{\"internalType\":\"int256\",\"name\":\"answer\",\"type\":\"int256\"},{\"internalType\":\"uint256\",\"name\":\"startedAt\",\"type\":\"uint256\"},{\"internalType\":\"uint256\",\"name\":\"updatedAt\",\"type\":\"uint256\"},{\"internalType\":\"uint80\",\"name\":\"answeredInRound\",\"type\":\"uint80\"}],\"stateMutability\":\"view\",\"type\":\"function\"},{\"inputs\":[],\"name\":\"latestTimestamp\",\"outputs\":[{\"internalType\":\"uint256\",\"name\":\"\",\"type\":\"uint256\"}],\"stateMutability\":\"view\",\"type\":\"function\"},{\"inputs\":[],\"name\":\"owner\",\"outputs\":[{\"internalType\":\"address payable\",\"name\":\"\",\"type\":\"address\"}],\"stateMutability\":\"view\",\"type\":\"function\"},{\"inputs\":[{\"internalType\":\"uint16\",\"name\":\"\",\"type\":\"uint16\"}],\"name\":\"phaseAggregators\",\"outputs\":[{\"internalType\":\"contract AggregatorV2V3Interface\",\"name\":\"\",\"type\":\"address\"}],\"stateMutability\":\"view\",\"type\":\"function\"},{\"inputs\":[],\"name\":\"phaseId\",\"outputs\":[{\"internalType\":\"uint16\",\"name\":\"\",\"type\":\"uint16\"}],\"stateMutability\":\"view\",\"type\":\"function\"},{\"inputs\":[{\"internalType\":\"address\",\"name\":\"_aggregator\",\"type\":\"address\"}],\"name\":\"proposeAggregator\",\"outputs\":[],\"stateMutability\":\"nonpayable\",\"type\":\"function\"},{\"inputs\":[],\"name\":\"proposedAggregator\",\"outputs\":[{\"internalType\":\"contract AggregatorV2V3Interface\",\"name\":\"\",\"type\":\"address\"}],\"stateMutability\":\"view\",\"type\":\"function\"},{\"inputs\":[{\"internalType\":\"uint80\",\"name\":\"_roundId\",\"type\":\"uint80\"}],\"name\":\"proposedGetRoundData\",\"outputs\":[{\"internalType\":\"uint80\",\"name\":\"roundId\",\"type\":\"uint80\"},{\"internalType\":\"int256\",\"name\":\"answer\",\"type\":\"int256\"},{\"internalType\":\"uint256\",\"name\":\"startedAt\",\"type\":\"uint256\"},{\"internalType\":\"uint256\",\"name\":\"updatedAt\",\"type\":\"uint256\"},{\"internalType\":\"uint80\",\"name\":\"answeredInRound\",\"type\":\"uint80\"}],\"stateMutability\":\"view\",\"type\":\"function\"},{\"inputs\":[],\"name\":\"proposedLatestRoundData\",\"outputs\":[{\"internalType\":\"uint80\",\"name\":\"roundId\",\"type\":\"uint80\"},{\"internalType\":\"int256\",\"name\":\"answer\",\"type\":\"int256\"},{\"internalType\":\"uint256\",\"name\":\"startedAt\",\"type\":\"uint256\"},{\"internalType\":\"uint256\",\"name\":\"updatedAt\",\"type\":\"uint256\"},{\"internalType\":\"uint80\",\"name\":\"answeredInRound\",\"type\":\"uint80\"}],\"stateMutability\":\"view\",\"type\":\"function\"},{\"inputs\":[{\"internalType\":\"address\",\"name\":\"_accessController\",\"type\":\"address\"}],\"name\":\"setController\",\"outputs\":[],\"stateMutability\":\"nonpayable\",\"type\":\"function\"},{\"inputs\":[{\"internalType\":\"address\",\"name\":\"_to\",\"type\":\"address\"}],\"name\":\"transferOwnership\",\"outputs\":[],\"stateMutability\":\"nonpayable\",\"type\":\"function\"},{\"inputs\":[],\"name\":\"version\",\"outputs\":[{\"internalType\":\"uint256\",\"name\":\"\",\"type\":\"uint256\"}],\"stateMutability\":\"view\",\"type\":\"function\"}]'\n"
   ]
  },
  {
   "cell_type": "code",
   "execution_count": 7,
   "metadata": {},
   "outputs": [],
   "source": [
    "\n",
    "class PoolScan:\n",
    "\n",
    "    def __init__(self, pool, pricefeed):\n",
    "        address, token0, token0_address, token1, token1_address  = pool\n",
    "        self.address = address\n",
    "        self.contract = w3.eth.contract(address = w3.toChecksumAddress(self.address), abi=abi)\n",
    "        self.token0_address = token0_address\n",
    "        self.token1_address = token1_address\n",
    "        self.token0 = token0\n",
    "        self.token1 = token1\n",
    "        self.init_block_number = w3.eth.block_number\n",
    "        self.pricefeed = pricefeed\n",
    "\n",
    "    def get_chainlink_eth_feed(self, blockNumber):\n",
    "        return self.pricefeed[blockNumber]\n",
    "    \n",
    "\n",
    "    def track_events_since_block(self, startBlock=None):\n",
    "        if startBlock is None:\n",
    "            startBlock = self.init_block_number - 100000\n",
    "        swap_event_filter = self.contract.events.Swap.createFilter(fromBlock= startBlock)   \n",
    "        sync_event_filter = self.contract.events.Sync.createFilter(fromBlock= startBlock)\n",
    "        swap_entries = swap_event_filter.get_all_entries()            \n",
    "        sync_entries = sync_event_filter.get_all_entries()\n",
    "\n",
    "\n",
    "        \n",
    "\n",
    "        \n",
    "        \n",
    "        \n",
    "\n",
    "        ### Tracked in token0\n",
    "        cumulative_swap0_volume = 0\n",
    "        cumulative_swap1_volume = 0\n",
    "\n",
    "        TimeSteps = []\n",
    "\n",
    "\n",
    "        for swap, sync in zip(swap_entries, sync_entries):\n",
    "\n",
    "            cumulative_swap0_volume += swap['args']['amount0In']+ swap['args']['amount0Out']\n",
    "            cumulative_swap1_volume += swap['args']['amount1In']+ swap['args']['amount1Out']\n",
    "\n",
    "            ### so that 0 is always WETH\n",
    "\n",
    "            if self.token0 == 'WETH':\n",
    "                TimeSteps.append({\n",
    "                    \"amount0In\": swap['args']['amount0In'],\n",
    "                    \"amount0Out\": swap['args']['amount0Out'],\n",
    "                    \"amount1In\": swap['args']['amount1In'],\n",
    "                    \"amount1Out\": swap['args']['amount1Out'],\n",
    "                    \"cumulative_swap0_volume\": cumulative_swap0_volume,\n",
    "                    \"cumulative_swap1_volume\": cumulative_swap1_volume,\n",
    "                    \"reserve0\": sync['args']['reserve0'],\n",
    "                    \"reserve1\": sync['args']['reserve1'],\n",
    "                    \"blockNumber\": sync['blockNumber'],\n",
    "                    \"ethPriceUSD\": self.get_chainlink_eth_feed(sync['blockNumber'])\n",
    "                })\n",
    "            else:\n",
    "                TimeSteps.append({\n",
    "                    \"amount0In\": swap['args']['amount1In'],\n",
    "                    \"amount0Out\": swap['args']['amount1Out'],\n",
    "                    \"amount1In\": swap['args']['amount0In'],\n",
    "                    \"amount1Out\": swap['args']['amount0Out'],\n",
    "                    \"cumulative_swap0_volume\": cumulative_swap1_volume,\n",
    "                    \"cumulative_swap1_volume\": cumulative_swap0_volume,\n",
    "                    \"reserve0\": sync['args']['reserve1'],\n",
    "                    \"reserve1\": sync['args']['reserve0'],\n",
    "                    \"blockNumber\": int(sync['blockNumber']),\n",
    "                    \"ethPriceUSD\": self.get_chainlink_eth_feed(sync['blockNumber'])\n",
    "                })\n",
    "\n",
    "\n",
    "        return TimeSteps\n"
   ]
  },
  {
   "cell_type": "code",
   "execution_count": 187,
   "metadata": {},
   "outputs": [],
   "source": [
    "df = pd.DataFrame(timesteps)\n",
    "\n",
    "\n",
    "def cleanDF(df):\n",
    "  df['ethPriceUSD'] = df['ethPriceUSD'] / 10 ** 8\n",
    "  df['reserve0'] = df['reserve0'] / 10 ** 18\n",
    "  df['reserve1'] = df['reserve1'] / 10 ** 18\n",
    "  df['asset1PriceInEth'] = df['reserve1']  / df['reserve0'] \n",
    "  df['assetPriceUSD'] =  df['reserve0'] / df['reserve1'] * df['ethPriceUSD']\n",
    "  df['reserve0USD'] = df['reserve0'] * df['ethPriceUSD'] \n",
    "  df['reserve1USD'] = df['reserve1'] * (df['assetPriceUSD'])\n",
    "  df['cumulative_swap0_volume'] = df['cumulative_swap0_volume'] / 10 ** 18\n",
    "  df['cumulative_swap1_volume'] = df['cumulative_swap1_volume'] / 10 ** 18\n",
    "  df['cumulative_swap0_volumeUSD'] = df['cumulative_swap0_volume'] * df['ethPriceUSD']\n",
    "  df['cumulative_swap1_volumeUSD'] = df['cumulative_swap1_volume'] * df['assetPriceUSD']\n",
    "  df['trade_volumeUSD'] = df['cumulative_swap0_volumeUSD'].diff()\n",
    "  df['TVLUSD'] = df['reserve0USD'] + df['reserve1USD']\n",
    "\n",
    "  return df\n",
    "\n",
    "\n",
    "cdf = cleanDF(df)\n",
    "\n",
    "\n",
    "### Metrics assumes that you invest at the first entry of the df and withdraw at the last entry\n",
    "def calculate_metrics(df):\n",
    "  eth_start_price_USD = df['ethPriceUSD'].iloc[0]\n",
    "  eth_end_price_USD = df['ethPriceUSD'].iloc[-1]\n",
    "  asset_start_price_USD = df['assetPriceUSD'].iloc[0]\n",
    "  asset_end_price_USD = df['assetPriceUSD'].iloc[-1]\n",
    "\n",
    "  reserve0_start = df['reserve0'].iloc[0]\n",
    "  reserve0_end = df['reserve0'].iloc[-1]\n",
    "  reserve1_start = df['reserve1'].iloc[0]\n",
    "  reserve1_end = df['reserve1'].iloc[-1]\n",
    "\n",
    "  constant_product_start = reserve0_start * reserve1_start\n",
    "  constant_product_end = reserve0_end * reserve1_end\n",
    "\n",
    "\n",
    "  start_liquidity_eth = np.sqrt(constant_product_start / eth_start_price_USD)\n",
    "  start_liquidity_asset = np.sqrt(constant_product_start * eth_start_price_USD)\n",
    "\n",
    "  end_liquidity_eth = np.sqrt(constant_product_end / eth_end_price_USD)\n",
    "  end_liquidity_asset = np.sqrt(constant_product_end * eth_end_price_USD)\n",
    "\n",
    "  impermanent_loss_eth = 2 * np.sqrt(start_liquidity_eth / end_liquidity_eth) / (1+start_liquidity_eth / end_liquidity_eth) - 1\n",
    "  impermanent_loss_asset = 2 * np.sqrt(start_liquidity_asset / end_liquidity_asset) / (1+start_liquidity_asset / end_liquidity_asset) - 1\n",
    "  impermanent_loss = (impermanent_loss_eth + impermanent_loss_asset) / 2\n",
    "  total_fee_returns = 0.03 * (df['cumulative_swap0_volumeUSD'].iloc[-1])\n",
    "\n",
    "  eth_price_vol = df['ethPriceUSD'].pct_change().std()\n",
    "\n",
    "  asset_price_vol = df['assetPriceUSD'].pct_change().std()\n",
    "\n",
    "  average_swap_size = df['trade_volumeUSD'].mean()\n",
    "\n",
    "  block_number_range = df['blockNumber'].iloc[-1] - df['blockNumber'].iloc[0]\n",
    "  amt_blocks = len(df)\n",
    "  volumeUSD_per_block = np.mean(list(df.groupby('blockNumber').sum()['trade_volumeUSD']) + [0 for _ in range(block_number_range - amt_blocks)])\n",
    "\n",
    "  fee_return_per_block = 0.03 * volumeUSD_per_block\n",
    "\n",
    "  pct_change_in_TVL = (df['TVLUSD'].iloc[-1] - df['TVLUSD'].iloc[0]) / df['TVLUSD'].iloc[0]\n",
    "\n",
    "\n",
    " \n",
    "\n",
    "\n",
    "  return total_fee_returns, impermanent_loss, eth_price_vol, asset_price_vol, average_swap_size, volumeUSD_per_block, fee_return_per_block, pct_change_in_TVL\n",
    "   \n",
    "metrix = calculate_metrics(cdf)\n"
   ]
  },
  {
   "cell_type": "code",
   "execution_count": 23,
   "metadata": {},
   "outputs": [],
   "source": [
    "\n",
    "class PoolScan:\n",
    "\n",
    "    def __init__(self, pool, pricefeed):\n",
    "        address, token0, token0_address, token1, token1_address  = pool\n",
    "        self.address = address\n",
    "        self.contract = w3.eth.contract(address = w3.toChecksumAddress(self.address), abi=abi)\n",
    "        self.token0_address = token0_address\n",
    "        self.token1_address = token1_address\n",
    "        self.token0 = token0\n",
    "        self.token1 = token1\n",
    "        self.init_block_number = w3.eth.block_number\n",
    "        self.pricefeed = pricefeed\n",
    "\n",
    "    def get_chainlink_eth_feed(self, blockNumber):\n",
    "        return self.pricefeed[blockNumber]\n",
    "    \n",
    "\n",
    "    def track_events_since_block(self, startBlock=None, endBlock=None):\n",
    "        if startBlock is None:\n",
    "            startBlock = self.init_block_number - 100000\n",
    "\n",
    "        if startBlock is None:\n",
    "            endBlock = startBlock+100\n",
    "        swap_event_filter = self.contract.events.Swap.createFilter(fromBlock= startBlock, toBlock=endBlock)   \n",
    "        sync_event_filter = self.contract.events.Sync.createFilter(fromBlock= startBlock, toBlock=endBlock)\n",
    "        swap_entries = swap_event_filter.get_all_entries()            \n",
    "        sync_entries = sync_event_filter.get_all_entries()\n",
    "\n",
    "        ### Tracked in token0\n",
    "        cumulative_swap0_volume = 0\n",
    "        cumulative_swap1_volume = 0\n",
    "\n",
    "        TimeSteps = []\n",
    "\n",
    "\n",
    "        for swap, sync in zip(swap_entries, sync_entries):\n",
    "\n",
    "            cumulative_swap0_volume += swap['args']['amount0In']+ swap['args']['amount0Out']\n",
    "            cumulative_swap1_volume += swap['args']['amount1In']+ swap['args']['amount1Out']\n",
    "\n",
    "            ### so that 0 is always WETH\n",
    "\n",
    "            if self.token0 == 'WETH':\n",
    "                TimeSteps.append({\n",
    "                    \"amount0In\": swap['args']['amount0In'],\n",
    "                    \"amount0Out\": swap['args']['amount0Out'],\n",
    "                    \"amount1In\": swap['args']['amount1In'],\n",
    "                    \"amount1Out\": swap['args']['amount1Out'],\n",
    "                    \"cumulative_swap0_volume\": cumulative_swap0_volume,\n",
    "                    \"cumulative_swap1_volume\": cumulative_swap1_volume,\n",
    "                    \"reserve0\": sync['args']['reserve0'],\n",
    "                    \"reserve1\": sync['args']['reserve1'],\n",
    "                    \"blockNumber\": sync['blockNumber'],\n",
    "                    \"ethPriceUSD\": self.get_chainlink_eth_feed(sync['blockNumber'])\n",
    "                })\n",
    "            else:\n",
    "                TimeSteps.append({\n",
    "                    \"amount0In\": swap['args']['amount1In'],\n",
    "                    \"amount0Out\": swap['args']['amount1Out'],\n",
    "                    \"amount1In\": swap['args']['amount0In'],\n",
    "                    \"amount1Out\": swap['args']['amount0Out'],\n",
    "                    \"cumulative_swap0_volume\": cumulative_swap1_volume,\n",
    "                    \"cumulative_swap1_volume\": cumulative_swap0_volume,\n",
    "                    \"reserve0\": sync['args']['reserve1'],\n",
    "                    \"reserve1\": sync['args']['reserve0'],\n",
    "                    \"blockNumber\": int(sync['blockNumber']),\n",
    "                    \"ethPriceUSD\": self.get_chainlink_eth_feed(sync['blockNumber'])\n",
    "                })\n",
    "\n",
    "\n",
    "        return TimeSteps\n",
    "\n",
    "\n",
    "\n",
    "\n",
    "def cleanDF(data):\n",
    "  df = pd.DataFrame(data)\n",
    "  df['ethPriceUSD'] = df['ethPriceUSD'] / 10 ** 8\n",
    "  df['reserve0'] = df['reserve0'] / 10 ** 18\n",
    "  df['reserve1'] = df['reserve1'] / 10 ** 18\n",
    "  df['asset1PriceInEth'] = df['reserve1']  / df['reserve0'] \n",
    "  df['assetPriceUSD'] =  df['reserve0'] / df['reserve1'] * df['ethPriceUSD']\n",
    "  df['reserve0USD'] = df['reserve0'] * df['ethPriceUSD'] \n",
    "  df['reserve1USD'] = df['reserve1'] * (df['assetPriceUSD'])\n",
    "  df['cumulative_swap0_volume'] = df['cumulative_swap0_volume'] / 10 ** 18\n",
    "  df['cumulative_swap1_volume'] = df['cumulative_swap1_volume'] / 10 ** 18\n",
    "  df['cumulative_swap0_volumeUSD'] = df['cumulative_swap0_volume'] * df['ethPriceUSD']\n",
    "  df['cumulative_swap1_volumeUSD'] = df['cumulative_swap1_volume'] * df['assetPriceUSD']\n",
    "  df['trade_volumeUSD'] = df['cumulative_swap0_volumeUSD'].diff()\n",
    "  df['TVLUSD'] = df['reserve0USD'] + df['reserve1USD']\n",
    "\n",
    "  return df\n",
    "\n",
    "\n",
    "### Metrics assumes that you invest at the first entry of the df and withdraw at the last entry\n",
    "def calculate_metrics(df):\n",
    "\n",
    "  eth_start_price_USD = df['ethPriceUSD'].iloc[0]\n",
    "  eth_end_price_USD = df['ethPriceUSD'].iloc[-1]\n",
    "  asset_start_price_USD = df['assetPriceUSD'].iloc[0]\n",
    "  asset_end_price_USD = df['assetPriceUSD'].iloc[-1]\n",
    "\n",
    "  reserve0_start = df['reserve0'].iloc[0]\n",
    "  reserve0_end = df['reserve0'].iloc[-1]\n",
    "  reserve1_start = df['reserve1'].iloc[0]\n",
    "  reserve1_end = df['reserve1'].iloc[-1]\n",
    "\n",
    "  constant_product_start = reserve0_start * reserve1_start\n",
    "  constant_product_end = reserve0_end * reserve1_end\n",
    "\n",
    "\n",
    "  start_liquidity_eth = np.sqrt(constant_product_start / eth_start_price_USD)\n",
    "  start_liquidity_asset = np.sqrt(constant_product_start * eth_start_price_USD)\n",
    "\n",
    "  end_liquidity_eth = np.sqrt(constant_product_end / eth_end_price_USD)\n",
    "  end_liquidity_asset = np.sqrt(constant_product_end * eth_end_price_USD)\n",
    "\n",
    "  impermanent_loss_eth = 2 * np.sqrt(start_liquidity_eth / end_liquidity_eth) / (1+start_liquidity_eth / end_liquidity_eth) - 1\n",
    "  impermanent_loss_asset = 2 * np.sqrt(start_liquidity_asset / end_liquidity_asset) / (1+start_liquidity_asset / end_liquidity_asset) - 1\n",
    "  impermanent_loss = (impermanent_loss_eth + impermanent_loss_asset) / 2\n",
    "  total_fee_returns = 0.03 * (df['cumulative_swap0_volumeUSD'].iloc[-1])\n",
    "\n",
    "  eth_price_vol = df['ethPriceUSD'].pct_change().std()\n",
    "\n",
    "  asset_price_vol = df['assetPriceUSD'].pct_change().std()\n",
    "\n",
    "  average_swap_size = df['trade_volumeUSD'].mean()\n",
    "\n",
    "  block_number_range = df['blockNumber'].iloc[-1] - df['blockNumber'].iloc[0]\n",
    "  amt_blocks = len(df)\n",
    "  volumeUSD_per_block = np.mean(list(df.groupby('blockNumber').sum()['trade_volumeUSD']) + [0 for _ in range(block_number_range - amt_blocks)])\n",
    "\n",
    "  fee_return_per_block = 0.03 * volumeUSD_per_block\n",
    "\n",
    "  pct_change_in_TVL = (df['TVLUSD'].iloc[-1] - df['TVLUSD'].iloc[0]) / df['TVLUSD'].iloc[0]\n",
    "\n",
    "  return total_fee_returns, -impermanent_loss, -eth_price_vol, -asset_price_vol, average_swap_size, volumeUSD_per_block, fee_return_per_block, pct_change_in_TVL\n",
    "  \n",
    "\n",
    "\n",
    "class Scanner:\n",
    "\n",
    "\n",
    "  def get_token_metrics(self):\n",
    "\n",
    "\n",
    "    all_timesteps = {}\n",
    "    token_metrics = {}\n",
    "\n",
    "    for token in tqdm(self.top_tokens):\n",
    "      p = PoolScan(token, self.price_feed)\n",
    "      tracked_events = p.track_events_since_block(self.start_blockNumber, self.current_block)\n",
    "      if tracked_events != []:\n",
    "        timesteps = cleanDF(tracked_events)\n",
    "        print(timesteps.columns)\n",
    "        all_timesteps[(p.token0, p.token1)] = timesteps\n",
    "        token_metrics[(p.token0, p.token1)] = calculate_metrics(timesteps)        \n",
    "\n",
    "    return all_timesteps, token_metrics\n",
    "\n",
    "\n",
    "\n",
    "  def __init__(self, start_blockNumber, current_block, top_tokens, pricefeed):\n",
    "    self.current_block = current_block\n",
    "    self.start_blockNumber = start_blockNumber\n",
    "    self.price_feed = pricefeed\n",
    "    self.top_tokens = top_tokens\n",
    "    self.top_token_timesteps, self.token_metrics =  self.get_token_metrics()\n",
    "\n",
    "\n",
    "\n",
    "\n",
    "\n",
    "\n",
    "\n",
    "\n",
    "\n"
   ]
  },
  {
   "cell_type": "code",
   "execution_count": 21,
   "metadata": {},
   "outputs": [],
   "source": [
    "def get_pricefeed( block, current_block):\n",
    "  contract = w3.eth.contract(address = w3.toChecksumAddress(LINKFEED), abi=linkabi)\n",
    "  pricefeed = {}\n",
    "  for i in tqdm(range(block, current_block+1)):    \n",
    "    pricefeed[i] = contract.functions.latestAnswer().call(block_identifier=i)\n",
    "  return pricefeed"
   ]
  },
  {
   "cell_type": "code",
   "execution_count": 10,
   "metadata": {},
   "outputs": [
    {
     "name": "stderr",
     "output_type": "stream",
     "text": [
      "100%|██████████| 501/501 [00:59<00:00,  8.37it/s]\n"
     ]
    }
   ],
   "source": [
    "pricefeed = get_pricefeed(15892036, 15892536)"
   ]
  },
  {
   "cell_type": "code",
   "execution_count": 25,
   "metadata": {},
   "outputs": [
    {
     "name": "stderr",
     "output_type": "stream",
     "text": [
      " 20%|██        | 2/10 [00:00<00:03,  2.05it/s]"
     ]
    },
    {
     "name": "stdout",
     "output_type": "stream",
     "text": [
      "Index(['amount0In', 'amount0Out', 'amount1In', 'amount1Out',\n",
      "       'cumulative_swap0_volume', 'cumulative_swap1_volume', 'reserve0',\n",
      "       'reserve1', 'blockNumber', 'ethPriceUSD', 'asset1PriceInEth',\n",
      "       'assetPriceUSD', 'reserve0USD', 'reserve1USD',\n",
      "       'cumulative_swap0_volumeUSD', 'cumulative_swap1_volumeUSD',\n",
      "       'trade_volumeUSD', 'TVLUSD'],\n",
      "      dtype='object')\n"
     ]
    },
    {
     "name": "stderr",
     "output_type": "stream",
     "text": [
      " 30%|███       | 3/10 [00:01<00:02,  2.45it/s]"
     ]
    },
    {
     "name": "stdout",
     "output_type": "stream",
     "text": [
      "Index(['amount0In', 'amount0Out', 'amount1In', 'amount1Out',\n",
      "       'cumulative_swap0_volume', 'cumulative_swap1_volume', 'reserve0',\n",
      "       'reserve1', 'blockNumber', 'ethPriceUSD', 'asset1PriceInEth',\n",
      "       'assetPriceUSD', 'reserve0USD', 'reserve1USD',\n",
      "       'cumulative_swap0_volumeUSD', 'cumulative_swap1_volumeUSD',\n",
      "       'trade_volumeUSD', 'TVLUSD'],\n",
      "      dtype='object')\n"
     ]
    },
    {
     "name": "stderr",
     "output_type": "stream",
     "text": [
      " 40%|████      | 4/10 [00:01<00:02,  2.72it/s]"
     ]
    },
    {
     "name": "stdout",
     "output_type": "stream",
     "text": [
      "Index(['amount0In', 'amount0Out', 'amount1In', 'amount1Out',\n",
      "       'cumulative_swap0_volume', 'cumulative_swap1_volume', 'reserve0',\n",
      "       'reserve1', 'blockNumber', 'ethPriceUSD', 'asset1PriceInEth',\n",
      "       'assetPriceUSD', 'reserve0USD', 'reserve1USD',\n",
      "       'cumulative_swap0_volumeUSD', 'cumulative_swap1_volumeUSD',\n",
      "       'trade_volumeUSD', 'TVLUSD'],\n",
      "      dtype='object')\n"
     ]
    },
    {
     "name": "stderr",
     "output_type": "stream",
     "text": [
      " 60%|██████    | 6/10 [00:02<00:01,  2.99it/s]"
     ]
    },
    {
     "name": "stdout",
     "output_type": "stream",
     "text": [
      "Index(['amount0In', 'amount0Out', 'amount1In', 'amount1Out',\n",
      "       'cumulative_swap0_volume', 'cumulative_swap1_volume', 'reserve0',\n",
      "       'reserve1', 'blockNumber', 'ethPriceUSD', 'asset1PriceInEth',\n",
      "       'assetPriceUSD', 'reserve0USD', 'reserve1USD',\n",
      "       'cumulative_swap0_volumeUSD', 'cumulative_swap1_volumeUSD',\n",
      "       'trade_volumeUSD', 'TVLUSD'],\n",
      "      dtype='object')\n"
     ]
    },
    {
     "name": "stderr",
     "output_type": "stream",
     "text": [
      "100%|██████████| 10/10 [00:03<00:00,  2.88it/s]\n"
     ]
    }
   ],
   "source": [
    "scan = Scanner(15892036,15892536, poolsArray[:10], pricefeed)"
   ]
  },
  {
   "cell_type": "code",
   "execution_count": 27,
   "metadata": {},
   "outputs": [
    {
     "data": {
      "text/plain": [
       "{('HEX', 'WETH'): (349.7802652384993,\n",
       "  -1.4883032964929654e-06,\n",
       "  0.001827143433264497,\n",
       "  0.005637354432921593,\n",
       "  722.9794461751271,\n",
       "  28.49180083448777,\n",
       "  0.854754025034633,\n",
       "  -0.005507400907315085),\n",
       " ('DOGE', 'WETH'): (63.77144517603128, 0.0, nan, nan, nan, 0.0, 0.0, 0.0),\n",
       " ('LDO', 'WETH'): (17.680421245780174, 0.0, nan, nan, nan, 0.0, 0.0, 0.0),\n",
       " ('HT', 'WETH'): (26.116589754294708, 0.0, nan, nan, nan, 0.0, 0.0, 0.0)}"
      ]
     },
     "execution_count": 27,
     "metadata": {},
     "output_type": "execute_result"
    }
   ],
   "source": [
    "scan.token_metrics"
   ]
  },
  {
   "cell_type": "code",
   "execution_count": null,
   "metadata": {},
   "outputs": [],
   "source": [
    "def calc_score(args, weights = None, num_metrics = 8):\n",
    "  if weights is None:\n",
    "    weights = [1/num_metrics for i in range(num_metrics)]\n",
    "  \n",
    "  score = \n",
    "\n"
   ]
  }
 ],
 "metadata": {
  "kernelspec": {
   "display_name": "Python 3.8.8 ('base')",
   "language": "python",
   "name": "python3"
  },
  "language_info": {
   "codemirror_mode": {
    "name": "ipython",
    "version": 3
   },
   "file_extension": ".py",
   "mimetype": "text/x-python",
   "name": "python",
   "nbconvert_exporter": "python",
   "pygments_lexer": "ipython3",
   "version": "3.8.8"
  },
  "orig_nbformat": 4,
  "vscode": {
   "interpreter": {
    "hash": "94f2a76ffbe1ad8d9ee163905647d2befbdfd8683fffbc75e51b10d82a8ca9e4"
   }
  }
 },
 "nbformat": 4,
 "nbformat_minor": 2
}
